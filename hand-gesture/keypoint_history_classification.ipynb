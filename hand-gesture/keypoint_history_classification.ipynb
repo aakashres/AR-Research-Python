{
 "cells": [
  {
   "cell_type": "code",
   "execution_count": 1,
   "metadata": {},
   "outputs": [],
   "source": [
    "import csv\n",
    "\n",
    "import numpy as np\n",
    "import tensorflow as tf\n",
    "import glob\n",
    "from sklearn.model_selection import train_test_split\n",
    "\n",
    "RANDOM_SEED = 42"
   ]
  },
  {
   "cell_type": "markdown",
   "metadata": {},
   "source": [
    "# Specify each path"
   ]
  },
  {
   "cell_type": "code",
   "execution_count": 2,
   "metadata": {},
   "outputs": [],
   "source": [
    "# np.genfromtxt('model/keypoint_history_classifier/data/arr_1.csv',delimiter=',')"
   ]
  },
  {
   "cell_type": "code",
   "execution_count": 3,
   "metadata": {},
   "outputs": [],
   "source": [
    "model_save_path = 'model/keypoint_history_classifier/keypoint_history_classifier.hdf5'"
   ]
  },
  {
   "cell_type": "code",
   "execution_count": 4,
   "metadata": {},
   "outputs": [
    {
     "name": "stdout",
     "output_type": "stream",
     "text": [
      "(249, 420)\n",
      "[0. 0. 0. 0. 0. 0. 0. 0. 0. 0. 0. 0. 0. 0. 0. 0. 0. 0. 0. 0. 0. 0. 0. 0.\n",
      " 0. 0. 0. 0. 0. 0. 0. 0. 0. 0. 0. 0. 0. 0. 0. 0. 0. 0. 0. 0. 0. 0. 0. 0.\n",
      " 0. 0. 0. 0. 0. 0. 0. 0. 0. 0. 0. 0. 0. 0. 0. 0. 0. 0. 0. 0. 0. 0. 0. 0.\n",
      " 0. 0. 0. 0. 0. 0. 0. 0. 0. 0. 0. 0. 0. 0. 0. 0. 0. 0. 0. 0. 0. 0. 0. 0.\n",
      " 0. 0. 0. 0. 0. 0. 0. 0. 0. 0. 0. 0. 0. 0. 1. 1. 1. 1. 1. 1. 1. 1. 1. 1.\n",
      " 1. 1. 1. 1. 1. 1. 1. 1. 1. 1. 1. 1. 1. 1. 1. 1. 1. 1. 1. 1. 1. 1. 1. 1.\n",
      " 1. 1. 1. 1. 1. 1. 1. 1. 1. 1. 1. 1. 1. 1. 1. 1. 1. 1. 1. 1. 1. 1. 1. 1.\n",
      " 1. 1. 1. 1. 1. 1. 1. 1. 1. 1. 1. 1. 1. 1. 1. 1. 1. 1. 1. 1. 1. 1. 1. 1.\n",
      " 1. 1. 1. 1. 1. 1. 1. 1. 1. 1. 1. 1. 1. 1. 1. 1. 1. 1. 1. 1. 1. 1. 1. 1.\n",
      " 1. 1. 1. 1. 1. 1. 1. 1. 1. 1. 1. 1. 1. 1. 1. 1. 1. 1. 1. 1. 1. 1. 1. 1.\n",
      " 1. 1. 1. 1. 1. 1. 1. 1. 1.]\n"
     ]
    }
   ],
   "source": [
    "data_list = glob.glob('model/keypoint_history_classifier/data/*.csv')\n",
    "\n",
    "\n",
    "for i,dat in enumerate(data_list):\n",
    "    if i == 0:\n",
    "        data = np.genfromtxt(dat,delimiter=',')\n",
    "    else:\n",
    "        temp_data = np.genfromtxt(dat,delimiter=',')\n",
    "        data = np.vstack((data,temp_data))\n",
    "        \n",
    "        \n",
    "# data\n",
    "X_dataset = data[:,range(1,(420)+1)]\n",
    "print(X_dataset.shape)\n",
    "y_dataset = data[:,0]-1\n",
    "\n",
    "print(y_dataset)"
   ]
  },
  {
   "cell_type": "markdown",
   "metadata": {},
   "source": [
    "# Set number of classes"
   ]
  },
  {
   "cell_type": "code",
   "execution_count": 5,
   "metadata": {},
   "outputs": [],
   "source": [
    "NUM_CLASSES = 2"
   ]
  },
  {
   "cell_type": "markdown",
   "metadata": {},
   "source": [
    "# Reading the Datset"
   ]
  },
  {
   "cell_type": "code",
   "execution_count": 6,
   "metadata": {},
   "outputs": [],
   "source": [
    "TIME_STEPS = 10\n",
    "DIMENSION = 42"
   ]
  },
  {
   "cell_type": "markdown",
   "metadata": {},
   "source": [
    "# Loading the dataset"
   ]
  },
  {
   "cell_type": "code",
   "execution_count": 5,
   "metadata": {},
   "outputs": [],
   "source": [
    "# X_dataset = np.loadtxt(dataset, delimiter=',', dtype='float32', usecols=list(range(1, (TIME_STEPS * DIMENSION) + 1)))"
   ]
  },
  {
   "cell_type": "code",
   "execution_count": 6,
   "metadata": {},
   "outputs": [],
   "source": [
    "# y_dataset = np.loadtxt(dataset, delimiter=',', dtype='int32', usecols=(0))"
   ]
  },
  {
   "cell_type": "code",
   "execution_count": 7,
   "metadata": {},
   "outputs": [
    {
     "name": "stdout",
     "output_type": "stream",
     "text": [
      "[1. 0. 0. 0. 1. 1. 1. 1. 0. 0. 1. 1. 1. 1. 0. 1. 1. 0. 1. 0. 1. 0. 1. 0.\n",
      " 1. 0. 0. 0. 0. 1. 1. 0. 1. 1. 0. 1. 0. 1. 1. 1. 1. 0. 0. 1. 1. 0. 1. 0.\n",
      " 1. 0. 1. 1. 1. 1. 1. 0. 1. 1. 1. 1. 1. 1. 1.]\n"
     ]
    }
   ],
   "source": [
    "X_train, X_test, y_train, y_test = train_test_split(X_dataset, y_dataset, train_size=0.75, random_state=RANDOM_SEED)\n",
    "\n",
    "print(y_test)"
   ]
  },
  {
   "cell_type": "markdown",
   "metadata": {},
   "source": [
    "# Builind the model"
   ]
  },
  {
   "cell_type": "code",
   "execution_count": 8,
   "metadata": {},
   "outputs": [
    {
     "name": "stderr",
     "output_type": "stream",
     "text": [
      "2021-10-02 03:43:55.350095: I tensorflow/core/platform/cpu_feature_guard.cc:142] This TensorFlow binary is optimized with oneAPI Deep Neural Network Library (oneDNN) to use the following CPU instructions in performance-critical operations:  SSE4.1 SSE4.2 AVX AVX2 FMA\n",
      "To enable them in other operations, rebuild TensorFlow with the appropriate compiler flags.\n"
     ]
    }
   ],
   "source": [
    "use_lstm = False\n",
    "model = None\n",
    "\n",
    "if use_lstm:\n",
    "    model = tf.keras.models.Sequential([\n",
    "        tf.keras.layers.InputLayer(input_shape=(TIME_STEPS * DIMENSION )),\n",
    "        tf.keras.layers.Reshape((TIME_STEPS, DIMENSION), input_shape=(TIME_STEPS * DIMENSION )), \n",
    "        tf.keras.layers.Dropout(0.2),\n",
    "        tf.keras.layers.LSTM(16, input_shape=[TIME_STEPS, DIMENSION]),\n",
    "        tf.keras.layers.Dropout(0.5),\n",
    "        tf.keras.layers.Dense(10, activation='relu'),\n",
    "        tf.keras.layers.Dense(NUM_CLASSES, activation='softmax')\n",
    "    ])\n",
    "else:\n",
    "    model = tf.keras.models.Sequential([\n",
    "        tf.keras.layers.InputLayer(input_shape=(TIME_STEPS * DIMENSION, )),\n",
    "        tf.keras.layers.Dropout(0.2),\n",
    "        tf.keras.layers.Dense(24, activation='relu'),\n",
    "        tf.keras.layers.Dropout(0.5),\n",
    "        tf.keras.layers.Dense(10, activation='relu'),\n",
    "        tf.keras.layers.Dense(NUM_CLASSES, activation='softmax')\n",
    "    ])"
   ]
  },
  {
   "cell_type": "code",
   "execution_count": 9,
   "metadata": {},
   "outputs": [
    {
     "name": "stdout",
     "output_type": "stream",
     "text": [
      "Model: \"sequential\"\n",
      "_________________________________________________________________\n",
      "Layer (type)                 Output Shape              Param #   \n",
      "=================================================================\n",
      "dropout (Dropout)            (None, 420)               0         \n",
      "_________________________________________________________________\n",
      "dense (Dense)                (None, 24)                10104     \n",
      "_________________________________________________________________\n",
      "dropout_1 (Dropout)          (None, 24)                0         \n",
      "_________________________________________________________________\n",
      "dense_1 (Dense)              (None, 10)                250       \n",
      "_________________________________________________________________\n",
      "dense_2 (Dense)              (None, 2)                 22        \n",
      "=================================================================\n",
      "Total params: 10,376\n",
      "Trainable params: 10,376\n",
      "Non-trainable params: 0\n",
      "_________________________________________________________________\n",
      "('Failed to import pydot. You must `pip install pydot` and install graphviz (https://graphviz.gitlab.io/download/), ', 'for `pydotprint` to work.')\n"
     ]
    }
   ],
   "source": [
    "model.summary()  \n",
    "tf.keras.utils.plot_model(model, show_shapes=True)"
   ]
  },
  {
   "cell_type": "code",
   "execution_count": 10,
   "metadata": {},
   "outputs": [],
   "source": [
    "# save the models \n",
    "cp_callback = tf.keras.callbacks.ModelCheckpoint(\n",
    "    model_save_path, verbose=1, save_weights_only=False)\n",
    "# callback for early stopping\n",
    "es_callback = tf.keras.callbacks.EarlyStopping(patience=20, verbose=1)"
   ]
  },
  {
   "cell_type": "code",
   "execution_count": 11,
   "metadata": {},
   "outputs": [],
   "source": [
    "# compiing model\n",
    "model.compile(\n",
    "    optimizer='adam',\n",
    "    loss='sparse_categorical_crossentropy',\n",
    "    metrics=['accuracy']\n",
    ")"
   ]
  },
  {
   "cell_type": "markdown",
   "metadata": {},
   "source": [
    "# Training"
   ]
  },
  {
   "cell_type": "code",
   "execution_count": 12,
   "metadata": {
    "scrolled": true
   },
   "outputs": [
    {
     "name": "stderr",
     "output_type": "stream",
     "text": [
      "2021-10-02 03:44:03.993319: I tensorflow/compiler/mlir/mlir_graph_optimization_pass.cc:116] None of the MLIR optimization passes are enabled (registered 2)\n",
      "2021-10-02 03:44:04.008164: I tensorflow/core/platform/profile_utils/cpu_utils.cc:112] CPU Frequency: 3000655000 Hz\n"
     ]
    },
    {
     "name": "stdout",
     "output_type": "stream",
     "text": [
      "Epoch 1/1000\n",
      "2/2 [==============================] - 1s 534ms/step - loss: 0.8418 - accuracy: 0.4726 - val_loss: 0.7287 - val_accuracy: 0.3810\n",
      "\n",
      "Epoch 00001: saving model to model/keypoint_history_classifier/keypoint_history_classifier.hdf5\n",
      "Epoch 2/1000\n",
      "2/2 [==============================] - 0s 35ms/step - loss: 0.7541 - accuracy: 0.5655 - val_loss: 0.7033 - val_accuracy: 0.4286\n",
      "\n",
      "Epoch 00002: saving model to model/keypoint_history_classifier/keypoint_history_classifier.hdf5\n",
      "Epoch 3/1000\n",
      "2/2 [==============================] - 0s 45ms/step - loss: 0.6779 - accuracy: 0.5515 - val_loss: 0.6683 - val_accuracy: 0.5556\n",
      "\n",
      "Epoch 00003: saving model to model/keypoint_history_classifier/keypoint_history_classifier.hdf5\n",
      "Epoch 4/1000\n",
      "2/2 [==============================] - 0s 36ms/step - loss: 0.6684 - accuracy: 0.5778 - val_loss: 0.6343 - val_accuracy: 0.7460\n",
      "\n",
      "Epoch 00004: saving model to model/keypoint_history_classifier/keypoint_history_classifier.hdf5\n",
      "Epoch 5/1000\n",
      "2/2 [==============================] - 0s 33ms/step - loss: 0.6587 - accuracy: 0.5726 - val_loss: 0.6128 - val_accuracy: 0.7619\n",
      "\n",
      "Epoch 00005: saving model to model/keypoint_history_classifier/keypoint_history_classifier.hdf5\n",
      "Epoch 6/1000\n",
      "2/2 [==============================] - 0s 28ms/step - loss: 0.6613 - accuracy: 0.5844 - val_loss: 0.5937 - val_accuracy: 0.7619\n",
      "\n",
      "Epoch 00006: saving model to model/keypoint_history_classifier/keypoint_history_classifier.hdf5\n",
      "Epoch 7/1000\n",
      "2/2 [==============================] - 0s 36ms/step - loss: 0.6468 - accuracy: 0.6251 - val_loss: 0.5803 - val_accuracy: 0.7460\n",
      "\n",
      "Epoch 00007: saving model to model/keypoint_history_classifier/keypoint_history_classifier.hdf5\n",
      "Epoch 8/1000\n",
      "2/2 [==============================] - 0s 34ms/step - loss: 0.6356 - accuracy: 0.5977 - val_loss: 0.5685 - val_accuracy: 0.7460\n",
      "\n",
      "Epoch 00008: saving model to model/keypoint_history_classifier/keypoint_history_classifier.hdf5\n",
      "Epoch 9/1000\n",
      "2/2 [==============================] - 0s 31ms/step - loss: 0.6507 - accuracy: 0.6270 - val_loss: 0.5521 - val_accuracy: 0.7937\n",
      "\n",
      "Epoch 00009: saving model to model/keypoint_history_classifier/keypoint_history_classifier.hdf5\n",
      "Epoch 10/1000\n",
      "2/2 [==============================] - 0s 32ms/step - loss: 0.6339 - accuracy: 0.6332 - val_loss: 0.5326 - val_accuracy: 0.8254\n",
      "\n",
      "Epoch 00010: saving model to model/keypoint_history_classifier/keypoint_history_classifier.hdf5\n",
      "Epoch 11/1000\n",
      "2/2 [==============================] - 0s 31ms/step - loss: 0.6298 - accuracy: 0.5808 - val_loss: 0.5146 - val_accuracy: 0.8730\n",
      "\n",
      "Epoch 00011: saving model to model/keypoint_history_classifier/keypoint_history_classifier.hdf5\n",
      "Epoch 12/1000\n",
      "2/2 [==============================] - 0s 32ms/step - loss: 0.5784 - accuracy: 0.6993 - val_loss: 0.4928 - val_accuracy: 0.9365\n",
      "\n",
      "Epoch 00012: saving model to model/keypoint_history_classifier/keypoint_history_classifier.hdf5\n",
      "Epoch 13/1000\n",
      "2/2 [==============================] - 0s 28ms/step - loss: 0.5698 - accuracy: 0.7055 - val_loss: 0.4746 - val_accuracy: 0.9365\n",
      "\n",
      "Epoch 00013: saving model to model/keypoint_history_classifier/keypoint_history_classifier.hdf5\n",
      "Epoch 14/1000\n",
      "2/2 [==============================] - 0s 34ms/step - loss: 0.5684 - accuracy: 0.7163 - val_loss: 0.4582 - val_accuracy: 0.9524\n",
      "\n",
      "Epoch 00014: saving model to model/keypoint_history_classifier/keypoint_history_classifier.hdf5\n",
      "Epoch 15/1000\n",
      "2/2 [==============================] - 0s 35ms/step - loss: 0.5810 - accuracy: 0.6873 - val_loss: 0.4397 - val_accuracy: 0.9365\n",
      "\n",
      "Epoch 00015: saving model to model/keypoint_history_classifier/keypoint_history_classifier.hdf5\n",
      "Epoch 16/1000\n",
      "2/2 [==============================] - 0s 33ms/step - loss: 0.5132 - accuracy: 0.7596 - val_loss: 0.4199 - val_accuracy: 0.9365\n",
      "\n",
      "Epoch 00016: saving model to model/keypoint_history_classifier/keypoint_history_classifier.hdf5\n",
      "Epoch 17/1000\n",
      "2/2 [==============================] - 0s 31ms/step - loss: 0.5001 - accuracy: 0.7472 - val_loss: 0.4021 - val_accuracy: 0.9206\n",
      "\n",
      "Epoch 00017: saving model to model/keypoint_history_classifier/keypoint_history_classifier.hdf5\n",
      "Epoch 18/1000\n",
      "2/2 [==============================] - 0s 35ms/step - loss: 0.4903 - accuracy: 0.7296 - val_loss: 0.3791 - val_accuracy: 0.9206\n",
      "\n",
      "Epoch 00018: saving model to model/keypoint_history_classifier/keypoint_history_classifier.hdf5\n",
      "Epoch 19/1000\n",
      "2/2 [==============================] - 0s 35ms/step - loss: 0.4488 - accuracy: 0.8023 - val_loss: 0.3483 - val_accuracy: 0.9365\n",
      "\n",
      "Epoch 00019: saving model to model/keypoint_history_classifier/keypoint_history_classifier.hdf5\n",
      "Epoch 20/1000\n",
      "2/2 [==============================] - 0s 40ms/step - loss: 0.4645 - accuracy: 0.7739 - val_loss: 0.3144 - val_accuracy: 0.9365\n",
      "\n",
      "Epoch 00020: saving model to model/keypoint_history_classifier/keypoint_history_classifier.hdf5\n",
      "Epoch 21/1000\n",
      "2/2 [==============================] - 0s 46ms/step - loss: 0.4396 - accuracy: 0.8023 - val_loss: 0.2862 - val_accuracy: 0.9524\n",
      "\n",
      "Epoch 00021: saving model to model/keypoint_history_classifier/keypoint_history_classifier.hdf5\n",
      "Epoch 22/1000\n",
      "2/2 [==============================] - 0s 43ms/step - loss: 0.4310 - accuracy: 0.7997 - val_loss: 0.2651 - val_accuracy: 0.9683\n",
      "\n",
      "Epoch 00022: saving model to model/keypoint_history_classifier/keypoint_history_classifier.hdf5\n",
      "Epoch 23/1000\n",
      "2/2 [==============================] - 0s 38ms/step - loss: 0.4223 - accuracy: 0.7889 - val_loss: 0.2430 - val_accuracy: 1.0000\n",
      "\n",
      "Epoch 00023: saving model to model/keypoint_history_classifier/keypoint_history_classifier.hdf5\n",
      "Epoch 24/1000\n",
      "2/2 [==============================] - 0s 40ms/step - loss: 0.4153 - accuracy: 0.7964 - val_loss: 0.2206 - val_accuracy: 1.0000\n",
      "\n",
      "Epoch 00024: saving model to model/keypoint_history_classifier/keypoint_history_classifier.hdf5\n",
      "Epoch 25/1000\n",
      "2/2 [==============================] - 0s 38ms/step - loss: 0.4099 - accuracy: 0.8362 - val_loss: 0.2034 - val_accuracy: 1.0000\n",
      "\n",
      "Epoch 00025: saving model to model/keypoint_history_classifier/keypoint_history_classifier.hdf5\n",
      "Epoch 26/1000\n",
      "2/2 [==============================] - 0s 40ms/step - loss: 0.3415 - accuracy: 0.8537 - val_loss: 0.1875 - val_accuracy: 1.0000\n",
      "\n",
      "Epoch 00026: saving model to model/keypoint_history_classifier/keypoint_history_classifier.hdf5\n",
      "Epoch 27/1000\n",
      "2/2 [==============================] - 0s 45ms/step - loss: 0.3891 - accuracy: 0.8414 - val_loss: 0.1712 - val_accuracy: 1.0000\n",
      "\n",
      "Epoch 00027: saving model to model/keypoint_history_classifier/keypoint_history_classifier.hdf5\n",
      "Epoch 28/1000\n",
      "2/2 [==============================] - 0s 40ms/step - loss: 0.3447 - accuracy: 0.8697 - val_loss: 0.1606 - val_accuracy: 1.0000\n",
      "\n",
      "Epoch 00028: saving model to model/keypoint_history_classifier/keypoint_history_classifier.hdf5\n",
      "Epoch 29/1000\n",
      "2/2 [==============================] - 0s 36ms/step - loss: 0.3412 - accuracy: 0.8661 - val_loss: 0.1555 - val_accuracy: 1.0000\n",
      "\n",
      "Epoch 00029: saving model to model/keypoint_history_classifier/keypoint_history_classifier.hdf5\n",
      "Epoch 30/1000\n",
      "2/2 [==============================] - 0s 45ms/step - loss: 0.3427 - accuracy: 0.8573 - val_loss: 0.1512 - val_accuracy: 1.0000\n",
      "\n",
      "Epoch 00030: saving model to model/keypoint_history_classifier/keypoint_history_classifier.hdf5\n",
      "Epoch 31/1000\n",
      "2/2 [==============================] - 0s 44ms/step - loss: 0.3164 - accuracy: 0.8909 - val_loss: 0.1487 - val_accuracy: 1.0000\n",
      "\n",
      "Epoch 00031: saving model to model/keypoint_history_classifier/keypoint_history_classifier.hdf5\n",
      "Epoch 32/1000\n",
      "2/2 [==============================] - 0s 32ms/step - loss: 0.3622 - accuracy: 0.8404 - val_loss: 0.1460 - val_accuracy: 1.0000\n",
      "\n",
      "Epoch 00032: saving model to model/keypoint_history_classifier/keypoint_history_classifier.hdf5\n",
      "Epoch 33/1000\n",
      "2/2 [==============================] - 0s 38ms/step - loss: 0.3165 - accuracy: 0.8609 - val_loss: 0.1392 - val_accuracy: 0.9841\n",
      "\n",
      "Epoch 00033: saving model to model/keypoint_history_classifier/keypoint_history_classifier.hdf5\n",
      "Epoch 34/1000\n",
      "2/2 [==============================] - 0s 31ms/step - loss: 0.3830 - accuracy: 0.8280 - val_loss: 0.1352 - val_accuracy: 0.9841\n",
      "\n",
      "Epoch 00034: saving model to model/keypoint_history_classifier/keypoint_history_classifier.hdf5\n",
      "Epoch 35/1000\n",
      "2/2 [==============================] - 0s 36ms/step - loss: 0.3132 - accuracy: 0.8609 - val_loss: 0.1267 - val_accuracy: 1.0000\n",
      "\n",
      "Epoch 00035: saving model to model/keypoint_history_classifier/keypoint_history_classifier.hdf5\n",
      "Epoch 36/1000\n",
      "2/2 [==============================] - 0s 34ms/step - loss: 0.2704 - accuracy: 0.9290 - val_loss: 0.1151 - val_accuracy: 1.0000\n",
      "\n",
      "Epoch 00036: saving model to model/keypoint_history_classifier/keypoint_history_classifier.hdf5\n",
      "Epoch 37/1000\n",
      "2/2 [==============================] - 0s 43ms/step - loss: 0.2595 - accuracy: 0.9068 - val_loss: 0.1019 - val_accuracy: 1.0000\n",
      "\n",
      "Epoch 00037: saving model to model/keypoint_history_classifier/keypoint_history_classifier.hdf5\n",
      "Epoch 38/1000\n",
      "2/2 [==============================] - 0s 43ms/step - loss: 0.2233 - accuracy: 0.9088 - val_loss: 0.0935 - val_accuracy: 1.0000\n",
      "\n",
      "Epoch 00038: saving model to model/keypoint_history_classifier/keypoint_history_classifier.hdf5\n",
      "Epoch 39/1000\n",
      "2/2 [==============================] - 0s 35ms/step - loss: 0.2317 - accuracy: 0.9397 - val_loss: 0.0860 - val_accuracy: 1.0000\n",
      "\n",
      "Epoch 00039: saving model to model/keypoint_history_classifier/keypoint_history_classifier.hdf5\n",
      "Epoch 40/1000\n",
      "2/2 [==============================] - 0s 36ms/step - loss: 0.3082 - accuracy: 0.8883 - val_loss: 0.0798 - val_accuracy: 1.0000\n",
      "\n",
      "Epoch 00040: saving model to model/keypoint_history_classifier/keypoint_history_classifier.hdf5\n",
      "Epoch 41/1000\n",
      "2/2 [==============================] - 0s 36ms/step - loss: 0.2215 - accuracy: 0.9397 - val_loss: 0.0743 - val_accuracy: 1.0000\n",
      "\n",
      "Epoch 00041: saving model to model/keypoint_history_classifier/keypoint_history_classifier.hdf5\n",
      "Epoch 42/1000\n",
      "2/2 [==============================] - 0s 32ms/step - loss: 0.3003 - accuracy: 0.8502 - val_loss: 0.0724 - val_accuracy: 1.0000\n",
      "\n",
      "Epoch 00042: saving model to model/keypoint_history_classifier/keypoint_history_classifier.hdf5\n",
      "Epoch 43/1000\n",
      "2/2 [==============================] - 0s 32ms/step - loss: 0.2112 - accuracy: 0.9166 - val_loss: 0.0758 - val_accuracy: 1.0000\n",
      "\n",
      "Epoch 00043: saving model to model/keypoint_history_classifier/keypoint_history_classifier.hdf5\n",
      "Epoch 44/1000\n",
      "2/2 [==============================] - 0s 33ms/step - loss: 0.2890 - accuracy: 0.8661 - val_loss: 0.0775 - val_accuracy: 1.0000\n",
      "\n",
      "Epoch 00044: saving model to model/keypoint_history_classifier/keypoint_history_classifier.hdf5\n",
      "Epoch 45/1000\n",
      "2/2 [==============================] - 0s 32ms/step - loss: 0.2286 - accuracy: 0.9300 - val_loss: 0.0683 - val_accuracy: 1.0000\n",
      "\n",
      "Epoch 00045: saving model to model/keypoint_history_classifier/keypoint_history_classifier.hdf5\n",
      "Epoch 46/1000\n",
      "2/2 [==============================] - 0s 39ms/step - loss: 0.2479 - accuracy: 0.9016 - val_loss: 0.0606 - val_accuracy: 1.0000\n",
      "\n",
      "Epoch 00046: saving model to model/keypoint_history_classifier/keypoint_history_classifier.hdf5\n",
      "Epoch 47/1000\n",
      "2/2 [==============================] - 0s 42ms/step - loss: 0.2231 - accuracy: 0.9248 - val_loss: 0.0585 - val_accuracy: 1.0000\n",
      "\n",
      "Epoch 00047: saving model to model/keypoint_history_classifier/keypoint_history_classifier.hdf5\n",
      "Epoch 48/1000\n",
      "2/2 [==============================] - 0s 35ms/step - loss: 0.1975 - accuracy: 0.9202 - val_loss: 0.0583 - val_accuracy: 1.0000\n",
      "\n",
      "Epoch 00048: saving model to model/keypoint_history_classifier/keypoint_history_classifier.hdf5\n",
      "Epoch 49/1000\n",
      "2/2 [==============================] - 0s 35ms/step - loss: 0.2224 - accuracy: 0.9397 - val_loss: 0.0560 - val_accuracy: 1.0000\n",
      "\n",
      "Epoch 00049: saving model to model/keypoint_history_classifier/keypoint_history_classifier.hdf5\n",
      "Epoch 50/1000\n",
      "2/2 [==============================] - 0s 43ms/step - loss: 0.2367 - accuracy: 0.8990 - val_loss: 0.0504 - val_accuracy: 1.0000\n",
      "\n",
      "Epoch 00050: saving model to model/keypoint_history_classifier/keypoint_history_classifier.hdf5\n",
      "Epoch 51/1000\n",
      "2/2 [==============================] - 0s 37ms/step - loss: 0.2761 - accuracy: 0.8909 - val_loss: 0.0490 - val_accuracy: 1.0000\n",
      "\n",
      "Epoch 00051: saving model to model/keypoint_history_classifier/keypoint_history_classifier.hdf5\n",
      "Epoch 52/1000\n",
      "2/2 [==============================] - 0s 36ms/step - loss: 0.1915 - accuracy: 0.9449 - val_loss: 0.0492 - val_accuracy: 1.0000\n",
      "\n",
      "Epoch 00052: saving model to model/keypoint_history_classifier/keypoint_history_classifier.hdf5\n",
      "Epoch 53/1000\n",
      "2/2 [==============================] - 0s 41ms/step - loss: 0.1871 - accuracy: 0.9511 - val_loss: 0.0480 - val_accuracy: 1.0000\n",
      "\n",
      "Epoch 00053: saving model to model/keypoint_history_classifier/keypoint_history_classifier.hdf5\n",
      "Epoch 54/1000\n",
      "2/2 [==============================] - 0s 41ms/step - loss: 0.2028 - accuracy: 0.9130 - val_loss: 0.0453 - val_accuracy: 1.0000\n",
      "\n",
      "Epoch 00054: saving model to model/keypoint_history_classifier/keypoint_history_classifier.hdf5\n",
      "Epoch 55/1000\n",
      "2/2 [==============================] - 0s 34ms/step - loss: 0.1979 - accuracy: 0.9290 - val_loss: 0.0429 - val_accuracy: 1.0000\n",
      "\n",
      "Epoch 00055: saving model to model/keypoint_history_classifier/keypoint_history_classifier.hdf5\n",
      "Epoch 56/1000\n",
      "2/2 [==============================] - 0s 33ms/step - loss: 0.2358 - accuracy: 0.9078 - val_loss: 0.0414 - val_accuracy: 1.0000\n",
      "\n",
      "Epoch 00056: saving model to model/keypoint_history_classifier/keypoint_history_classifier.hdf5\n",
      "Epoch 57/1000\n",
      "2/2 [==============================] - 0s 42ms/step - loss: 0.1552 - accuracy: 0.9547 - val_loss: 0.0391 - val_accuracy: 1.0000\n",
      "\n",
      "Epoch 00057: saving model to model/keypoint_history_classifier/keypoint_history_classifier.hdf5\n",
      "Epoch 58/1000\n",
      "2/2 [==============================] - 0s 33ms/step - loss: 0.1555 - accuracy: 0.9495 - val_loss: 0.0371 - val_accuracy: 1.0000\n",
      "\n",
      "Epoch 00058: saving model to model/keypoint_history_classifier/keypoint_history_classifier.hdf5\n",
      "Epoch 59/1000\n",
      "2/2 [==============================] - 0s 38ms/step - loss: 0.1567 - accuracy: 0.9459 - val_loss: 0.0356 - val_accuracy: 1.0000\n",
      "\n",
      "Epoch 00059: saving model to model/keypoint_history_classifier/keypoint_history_classifier.hdf5\n",
      "Epoch 60/1000\n",
      "2/2 [==============================] - 0s 43ms/step - loss: 0.1538 - accuracy: 0.9476 - val_loss: 0.0335 - val_accuracy: 1.0000\n",
      "\n",
      "Epoch 00060: saving model to model/keypoint_history_classifier/keypoint_history_classifier.hdf5\n",
      "Epoch 61/1000\n",
      "2/2 [==============================] - 0s 35ms/step - loss: 0.1496 - accuracy: 0.9645 - val_loss: 0.0299 - val_accuracy: 1.0000\n",
      "\n",
      "Epoch 00061: saving model to model/keypoint_history_classifier/keypoint_history_classifier.hdf5\n",
      "Epoch 62/1000\n",
      "2/2 [==============================] - 0s 30ms/step - loss: 0.1552 - accuracy: 0.9537 - val_loss: 0.0271 - val_accuracy: 1.0000\n",
      "\n",
      "Epoch 00062: saving model to model/keypoint_history_classifier/keypoint_history_classifier.hdf5\n",
      "Epoch 63/1000\n",
      "2/2 [==============================] - 0s 32ms/step - loss: 0.1563 - accuracy: 0.9433 - val_loss: 0.0256 - val_accuracy: 1.0000\n",
      "\n",
      "Epoch 00063: saving model to model/keypoint_history_classifier/keypoint_history_classifier.hdf5\n",
      "Epoch 64/1000\n",
      "2/2 [==============================] - 0s 37ms/step - loss: 0.1890 - accuracy: 0.9114 - val_loss: 0.0246 - val_accuracy: 1.0000\n",
      "\n",
      "Epoch 00064: saving model to model/keypoint_history_classifier/keypoint_history_classifier.hdf5\n",
      "Epoch 65/1000\n",
      "2/2 [==============================] - 0s 35ms/step - loss: 0.1711 - accuracy: 0.9407 - val_loss: 0.0238 - val_accuracy: 1.0000\n",
      "\n",
      "Epoch 00065: saving model to model/keypoint_history_classifier/keypoint_history_classifier.hdf5\n",
      "Epoch 66/1000\n",
      "2/2 [==============================] - 0s 35ms/step - loss: 0.2131 - accuracy: 0.8954 - val_loss: 0.0236 - val_accuracy: 1.0000\n",
      "\n",
      "Epoch 00066: saving model to model/keypoint_history_classifier/keypoint_history_classifier.hdf5\n",
      "Epoch 67/1000\n",
      "2/2 [==============================] - 0s 38ms/step - loss: 0.1752 - accuracy: 0.9469 - val_loss: 0.0247 - val_accuracy: 1.0000\n",
      "\n",
      "Epoch 00067: saving model to model/keypoint_history_classifier/keypoint_history_classifier.hdf5\n",
      "Epoch 68/1000\n",
      "2/2 [==============================] - 0s 41ms/step - loss: 0.1342 - accuracy: 0.9681 - val_loss: 0.0249 - val_accuracy: 1.0000\n",
      "\n",
      "Epoch 00068: saving model to model/keypoint_history_classifier/keypoint_history_classifier.hdf5\n",
      "Epoch 69/1000\n",
      "2/2 [==============================] - 0s 32ms/step - loss: 0.1435 - accuracy: 0.9336 - val_loss: 0.0242 - val_accuracy: 1.0000\n",
      "\n",
      "Epoch 00069: saving model to model/keypoint_history_classifier/keypoint_history_classifier.hdf5\n",
      "Epoch 70/1000\n",
      "2/2 [==============================] - 0s 41ms/step - loss: 0.1636 - accuracy: 0.9407 - val_loss: 0.0228 - val_accuracy: 1.0000\n",
      "\n",
      "Epoch 00070: saving model to model/keypoint_history_classifier/keypoint_history_classifier.hdf5\n",
      "Epoch 71/1000\n",
      "2/2 [==============================] - 0s 59ms/step - loss: 0.1311 - accuracy: 0.9707 - val_loss: 0.0218 - val_accuracy: 1.0000\n",
      "\n",
      "Epoch 00071: saving model to model/keypoint_history_classifier/keypoint_history_classifier.hdf5\n",
      "Epoch 72/1000\n",
      "2/2 [==============================] - 0s 47ms/step - loss: 0.1343 - accuracy: 0.9733 - val_loss: 0.0221 - val_accuracy: 1.0000\n",
      "\n",
      "Epoch 00072: saving model to model/keypoint_history_classifier/keypoint_history_classifier.hdf5\n",
      "Epoch 73/1000\n",
      "2/2 [==============================] - 0s 38ms/step - loss: 0.1399 - accuracy: 0.9557 - val_loss: 0.0220 - val_accuracy: 1.0000\n",
      "\n",
      "Epoch 00073: saving model to model/keypoint_history_classifier/keypoint_history_classifier.hdf5\n",
      "Epoch 74/1000\n",
      "2/2 [==============================] - 0s 35ms/step - loss: 0.1191 - accuracy: 0.9557 - val_loss: 0.0208 - val_accuracy: 1.0000\n",
      "\n",
      "Epoch 00074: saving model to model/keypoint_history_classifier/keypoint_history_classifier.hdf5\n",
      "Epoch 75/1000\n",
      "2/2 [==============================] - 0s 31ms/step - loss: 0.1281 - accuracy: 0.9619 - val_loss: 0.0189 - val_accuracy: 1.0000\n",
      "\n",
      "Epoch 00075: saving model to model/keypoint_history_classifier/keypoint_history_classifier.hdf5\n",
      "Epoch 76/1000\n",
      "2/2 [==============================] - 0s 39ms/step - loss: 0.1457 - accuracy: 0.9557 - val_loss: 0.0178 - val_accuracy: 1.0000\n",
      "\n",
      "Epoch 00076: saving model to model/keypoint_history_classifier/keypoint_history_classifier.hdf5\n",
      "Epoch 77/1000\n",
      "2/2 [==============================] - 0s 34ms/step - loss: 0.1257 - accuracy: 0.9583 - val_loss: 0.0172 - val_accuracy: 1.0000\n",
      "\n",
      "Epoch 00077: saving model to model/keypoint_history_classifier/keypoint_history_classifier.hdf5\n",
      "Epoch 78/1000\n",
      "2/2 [==============================] - 0s 32ms/step - loss: 0.1126 - accuracy: 0.9655 - val_loss: 0.0165 - val_accuracy: 1.0000\n",
      "\n",
      "Epoch 00078: saving model to model/keypoint_history_classifier/keypoint_history_classifier.hdf5\n",
      "Epoch 79/1000\n",
      "2/2 [==============================] - 0s 35ms/step - loss: 0.1096 - accuracy: 0.9619 - val_loss: 0.0158 - val_accuracy: 1.0000\n",
      "\n",
      "Epoch 00079: saving model to model/keypoint_history_classifier/keypoint_history_classifier.hdf5\n",
      "Epoch 80/1000\n",
      "2/2 [==============================] - 0s 33ms/step - loss: 0.1155 - accuracy: 0.9645 - val_loss: 0.0144 - val_accuracy: 1.0000\n",
      "\n",
      "Epoch 00080: saving model to model/keypoint_history_classifier/keypoint_history_classifier.hdf5\n",
      "Epoch 81/1000\n",
      "2/2 [==============================] - 0s 34ms/step - loss: 0.1350 - accuracy: 0.9691 - val_loss: 0.0126 - val_accuracy: 1.0000\n",
      "\n",
      "Epoch 00081: saving model to model/keypoint_history_classifier/keypoint_history_classifier.hdf5\n",
      "Epoch 82/1000\n",
      "2/2 [==============================] - 0s 38ms/step - loss: 0.1130 - accuracy: 0.9707 - val_loss: 0.0113 - val_accuracy: 1.0000\n",
      "\n",
      "Epoch 00082: saving model to model/keypoint_history_classifier/keypoint_history_classifier.hdf5\n",
      "Epoch 83/1000\n",
      "2/2 [==============================] - 0s 36ms/step - loss: 0.1249 - accuracy: 0.9433 - val_loss: 0.0110 - val_accuracy: 1.0000\n",
      "\n",
      "Epoch 00083: saving model to model/keypoint_history_classifier/keypoint_history_classifier.hdf5\n",
      "Epoch 84/1000\n",
      "2/2 [==============================] - 0s 37ms/step - loss: 0.1420 - accuracy: 0.9388 - val_loss: 0.0109 - val_accuracy: 1.0000\n",
      "\n",
      "Epoch 00084: saving model to model/keypoint_history_classifier/keypoint_history_classifier.hdf5\n",
      "Epoch 85/1000\n",
      "2/2 [==============================] - 0s 34ms/step - loss: 0.1107 - accuracy: 0.9619 - val_loss: 0.0109 - val_accuracy: 1.0000\n",
      "\n",
      "Epoch 00085: saving model to model/keypoint_history_classifier/keypoint_history_classifier.hdf5\n",
      "Epoch 86/1000\n",
      "2/2 [==============================] - 0s 39ms/step - loss: 0.1375 - accuracy: 0.9547 - val_loss: 0.0116 - val_accuracy: 1.0000\n",
      "\n",
      "Epoch 00086: saving model to model/keypoint_history_classifier/keypoint_history_classifier.hdf5\n",
      "Epoch 87/1000\n",
      "2/2 [==============================] - 0s 37ms/step - loss: 0.1558 - accuracy: 0.9593 - val_loss: 0.0112 - val_accuracy: 1.0000\n",
      "\n",
      "Epoch 00087: saving model to model/keypoint_history_classifier/keypoint_history_classifier.hdf5\n",
      "Epoch 88/1000\n",
      "2/2 [==============================] - 0s 31ms/step - loss: 0.1455 - accuracy: 0.9336 - val_loss: 0.0112 - val_accuracy: 1.0000\n",
      "\n",
      "Epoch 00088: saving model to model/keypoint_history_classifier/keypoint_history_classifier.hdf5\n",
      "Epoch 89/1000\n",
      "2/2 [==============================] - 0s 31ms/step - loss: 0.1435 - accuracy: 0.9433 - val_loss: 0.0139 - val_accuracy: 1.0000\n",
      "\n",
      "Epoch 00089: saving model to model/keypoint_history_classifier/keypoint_history_classifier.hdf5\n",
      "Epoch 90/1000\n",
      "2/2 [==============================] - 0s 32ms/step - loss: 0.1154 - accuracy: 0.9609 - val_loss: 0.0163 - val_accuracy: 1.0000\n",
      "\n",
      "Epoch 00090: saving model to model/keypoint_history_classifier/keypoint_history_classifier.hdf5\n",
      "Epoch 91/1000\n",
      "2/2 [==============================] - 0s 32ms/step - loss: 0.1308 - accuracy: 0.9485 - val_loss: 0.0168 - val_accuracy: 1.0000\n",
      "\n",
      "Epoch 00091: saving model to model/keypoint_history_classifier/keypoint_history_classifier.hdf5\n",
      "Epoch 92/1000\n",
      "2/2 [==============================] - 0s 41ms/step - loss: 0.1252 - accuracy: 0.9619 - val_loss: 0.0166 - val_accuracy: 1.0000\n",
      "\n",
      "Epoch 00092: saving model to model/keypoint_history_classifier/keypoint_history_classifier.hdf5\n",
      "Epoch 93/1000\n",
      "2/2 [==============================] - 0s 34ms/step - loss: 0.1182 - accuracy: 0.9681 - val_loss: 0.0158 - val_accuracy: 1.0000\n",
      "\n",
      "Epoch 00093: saving model to model/keypoint_history_classifier/keypoint_history_classifier.hdf5\n",
      "Epoch 94/1000\n",
      "2/2 [==============================] - 0s 41ms/step - loss: 0.1347 - accuracy: 0.9521 - val_loss: 0.0155 - val_accuracy: 1.0000\n",
      "\n",
      "Epoch 00094: saving model to model/keypoint_history_classifier/keypoint_history_classifier.hdf5\n",
      "Epoch 95/1000\n",
      "2/2 [==============================] - 0s 42ms/step - loss: 0.1036 - accuracy: 0.9681 - val_loss: 0.0146 - val_accuracy: 1.0000\n",
      "\n",
      "Epoch 00095: saving model to model/keypoint_history_classifier/keypoint_history_classifier.hdf5\n",
      "Epoch 96/1000\n",
      "2/2 [==============================] - 0s 34ms/step - loss: 0.0978 - accuracy: 0.9743 - val_loss: 0.0133 - val_accuracy: 1.0000\n",
      "\n",
      "Epoch 00096: saving model to model/keypoint_history_classifier/keypoint_history_classifier.hdf5\n",
      "Epoch 97/1000\n",
      "2/2 [==============================] - 0s 36ms/step - loss: 0.1205 - accuracy: 0.9583 - val_loss: 0.0117 - val_accuracy: 1.0000\n",
      "\n",
      "Epoch 00097: saving model to model/keypoint_history_classifier/keypoint_history_classifier.hdf5\n",
      "Epoch 98/1000\n",
      "2/2 [==============================] - 0s 30ms/step - loss: 0.1118 - accuracy: 0.9609 - val_loss: 0.0104 - val_accuracy: 1.0000\n",
      "\n",
      "Epoch 00098: saving model to model/keypoint_history_classifier/keypoint_history_classifier.hdf5\n",
      "Epoch 99/1000\n",
      "2/2 [==============================] - 0s 36ms/step - loss: 0.1148 - accuracy: 0.9619 - val_loss: 0.0095 - val_accuracy: 1.0000\n",
      "\n",
      "Epoch 00099: saving model to model/keypoint_history_classifier/keypoint_history_classifier.hdf5\n",
      "Epoch 100/1000\n",
      "2/2 [==============================] - 0s 31ms/step - loss: 0.1159 - accuracy: 0.9681 - val_loss: 0.0089 - val_accuracy: 1.0000\n",
      "\n",
      "Epoch 00100: saving model to model/keypoint_history_classifier/keypoint_history_classifier.hdf5\n",
      "Epoch 101/1000\n",
      "2/2 [==============================] - 0s 40ms/step - loss: 0.1487 - accuracy: 0.9717 - val_loss: 0.0084 - val_accuracy: 1.0000\n",
      "\n",
      "Epoch 00101: saving model to model/keypoint_history_classifier/keypoint_history_classifier.hdf5\n",
      "Epoch 102/1000\n",
      "2/2 [==============================] - 0s 37ms/step - loss: 0.1578 - accuracy: 0.9397 - val_loss: 0.0086 - val_accuracy: 1.0000\n",
      "\n",
      "Epoch 00102: saving model to model/keypoint_history_classifier/keypoint_history_classifier.hdf5\n",
      "Epoch 103/1000\n",
      "2/2 [==============================] - 0s 36ms/step - loss: 0.0913 - accuracy: 0.9671 - val_loss: 0.0088 - val_accuracy: 1.0000\n",
      "\n",
      "Epoch 00103: saving model to model/keypoint_history_classifier/keypoint_history_classifier.hdf5\n",
      "Epoch 104/1000\n",
      "2/2 [==============================] - 0s 40ms/step - loss: 0.0899 - accuracy: 0.9707 - val_loss: 0.0093 - val_accuracy: 1.0000\n",
      "\n",
      "Epoch 00104: saving model to model/keypoint_history_classifier/keypoint_history_classifier.hdf5\n",
      "Epoch 105/1000\n",
      "2/2 [==============================] - 0s 33ms/step - loss: 0.1018 - accuracy: 0.9769 - val_loss: 0.0101 - val_accuracy: 1.0000\n",
      "\n",
      "Epoch 00105: saving model to model/keypoint_history_classifier/keypoint_history_classifier.hdf5\n",
      "Epoch 106/1000\n",
      "2/2 [==============================] - 0s 40ms/step - loss: 0.1292 - accuracy: 0.9567 - val_loss: 0.0111 - val_accuracy: 1.0000\n",
      "\n",
      "Epoch 00106: saving model to model/keypoint_history_classifier/keypoint_history_classifier.hdf5\n",
      "Epoch 107/1000\n",
      "2/2 [==============================] - 0s 34ms/step - loss: 0.0940 - accuracy: 0.9805 - val_loss: 0.0118 - val_accuracy: 1.0000\n",
      "\n",
      "Epoch 00107: saving model to model/keypoint_history_classifier/keypoint_history_classifier.hdf5\n",
      "Epoch 108/1000\n",
      "2/2 [==============================] - 0s 34ms/step - loss: 0.1038 - accuracy: 0.9521 - val_loss: 0.0110 - val_accuracy: 1.0000\n",
      "\n",
      "Epoch 00108: saving model to model/keypoint_history_classifier/keypoint_history_classifier.hdf5\n",
      "Epoch 109/1000\n",
      "2/2 [==============================] - 0s 36ms/step - loss: 0.0937 - accuracy: 0.9769 - val_loss: 0.0095 - val_accuracy: 1.0000\n",
      "\n",
      "Epoch 00109: saving model to model/keypoint_history_classifier/keypoint_history_classifier.hdf5\n",
      "Epoch 110/1000\n",
      "2/2 [==============================] - 0s 38ms/step - loss: 0.0933 - accuracy: 0.9752 - val_loss: 0.0081 - val_accuracy: 1.0000\n",
      "\n",
      "Epoch 00110: saving model to model/keypoint_history_classifier/keypoint_history_classifier.hdf5\n",
      "Epoch 111/1000\n",
      "2/2 [==============================] - 0s 39ms/step - loss: 0.1199 - accuracy: 0.9779 - val_loss: 0.0071 - val_accuracy: 1.0000\n",
      "\n",
      "Epoch 00111: saving model to model/keypoint_history_classifier/keypoint_history_classifier.hdf5\n",
      "Epoch 112/1000\n",
      "2/2 [==============================] - 0s 33ms/step - loss: 0.1055 - accuracy: 0.9609 - val_loss: 0.0061 - val_accuracy: 1.0000\n",
      "\n",
      "Epoch 00112: saving model to model/keypoint_history_classifier/keypoint_history_classifier.hdf5\n",
      "Epoch 113/1000\n",
      "2/2 [==============================] - 0s 54ms/step - loss: 0.1020 - accuracy: 0.9779 - val_loss: 0.0054 - val_accuracy: 1.0000\n",
      "\n",
      "Epoch 00113: saving model to model/keypoint_history_classifier/keypoint_history_classifier.hdf5\n",
      "Epoch 114/1000\n",
      "2/2 [==============================] - 0s 38ms/step - loss: 0.0851 - accuracy: 0.9743 - val_loss: 0.0049 - val_accuracy: 1.0000\n",
      "\n",
      "Epoch 00114: saving model to model/keypoint_history_classifier/keypoint_history_classifier.hdf5\n",
      "Epoch 115/1000\n",
      "2/2 [==============================] - 0s 41ms/step - loss: 0.1213 - accuracy: 0.9619 - val_loss: 0.0051 - val_accuracy: 1.0000\n",
      "\n",
      "Epoch 00115: saving model to model/keypoint_history_classifier/keypoint_history_classifier.hdf5\n",
      "Epoch 116/1000\n",
      "2/2 [==============================] - 0s 34ms/step - loss: 0.0822 - accuracy: 0.9743 - val_loss: 0.0060 - val_accuracy: 1.0000\n",
      "\n",
      "Epoch 00116: saving model to model/keypoint_history_classifier/keypoint_history_classifier.hdf5\n",
      "Epoch 117/1000\n",
      "2/2 [==============================] - 0s 34ms/step - loss: 0.0925 - accuracy: 0.9769 - val_loss: 0.0067 - val_accuracy: 1.0000\n",
      "\n",
      "Epoch 00117: saving model to model/keypoint_history_classifier/keypoint_history_classifier.hdf5\n",
      "Epoch 118/1000\n",
      "2/2 [==============================] - 0s 32ms/step - loss: 0.0528 - accuracy: 0.9840 - val_loss: 0.0061 - val_accuracy: 1.0000\n",
      "\n",
      "Epoch 00118: saving model to model/keypoint_history_classifier/keypoint_history_classifier.hdf5\n",
      "Epoch 119/1000\n",
      "2/2 [==============================] - 0s 32ms/step - loss: 0.1160 - accuracy: 0.9655 - val_loss: 0.0060 - val_accuracy: 1.0000\n",
      "\n",
      "Epoch 00119: saving model to model/keypoint_history_classifier/keypoint_history_classifier.hdf5\n",
      "Epoch 120/1000\n",
      "2/2 [==============================] - 0s 32ms/step - loss: 0.0898 - accuracy: 0.9769 - val_loss: 0.0065 - val_accuracy: 1.0000\n",
      "\n",
      "Epoch 00120: saving model to model/keypoint_history_classifier/keypoint_history_classifier.hdf5\n",
      "Epoch 121/1000\n",
      "2/2 [==============================] - 0s 32ms/step - loss: 0.0851 - accuracy: 0.9691 - val_loss: 0.0076 - val_accuracy: 1.0000\n",
      "\n",
      "Epoch 00121: saving model to model/keypoint_history_classifier/keypoint_history_classifier.hdf5\n",
      "Epoch 122/1000\n",
      "2/2 [==============================] - 0s 37ms/step - loss: 0.1224 - accuracy: 0.9459 - val_loss: 0.0069 - val_accuracy: 1.0000\n",
      "\n",
      "Epoch 00122: saving model to model/keypoint_history_classifier/keypoint_history_classifier.hdf5\n",
      "Epoch 123/1000\n",
      "2/2 [==============================] - 0s 37ms/step - loss: 0.1288 - accuracy: 0.9593 - val_loss: 0.0062 - val_accuracy: 1.0000\n",
      "\n",
      "Epoch 00123: saving model to model/keypoint_history_classifier/keypoint_history_classifier.hdf5\n",
      "Epoch 124/1000\n",
      "2/2 [==============================] - 0s 36ms/step - loss: 0.0794 - accuracy: 0.9805 - val_loss: 0.0060 - val_accuracy: 1.0000\n",
      "\n",
      "Epoch 00124: saving model to model/keypoint_history_classifier/keypoint_history_classifier.hdf5\n",
      "Epoch 125/1000\n",
      "2/2 [==============================] - 0s 37ms/step - loss: 0.0588 - accuracy: 0.9866 - val_loss: 0.0061 - val_accuracy: 1.0000\n",
      "\n",
      "Epoch 00125: saving model to model/keypoint_history_classifier/keypoint_history_classifier.hdf5\n",
      "Epoch 126/1000\n",
      "2/2 [==============================] - 0s 37ms/step - loss: 0.1255 - accuracy: 0.9495 - val_loss: 0.0067 - val_accuracy: 1.0000\n",
      "\n",
      "Epoch 00126: saving model to model/keypoint_history_classifier/keypoint_history_classifier.hdf5\n",
      "Epoch 127/1000\n",
      "2/2 [==============================] - 0s 38ms/step - loss: 0.0829 - accuracy: 0.9661 - val_loss: 0.0074 - val_accuracy: 1.0000\n",
      "\n",
      "Epoch 00127: saving model to model/keypoint_history_classifier/keypoint_history_classifier.hdf5\n",
      "Epoch 128/1000\n",
      "2/2 [==============================] - 0s 38ms/step - loss: 0.1098 - accuracy: 0.9619 - val_loss: 0.0081 - val_accuracy: 1.0000\n",
      "\n",
      "Epoch 00128: saving model to model/keypoint_history_classifier/keypoint_history_classifier.hdf5\n",
      "Epoch 129/1000\n",
      "2/2 [==============================] - 0s 36ms/step - loss: 0.0936 - accuracy: 0.9707 - val_loss: 0.0082 - val_accuracy: 1.0000\n",
      "\n",
      "Epoch 00129: saving model to model/keypoint_history_classifier/keypoint_history_classifier.hdf5\n",
      "Epoch 130/1000\n",
      "2/2 [==============================] - 0s 33ms/step - loss: 0.0787 - accuracy: 0.9805 - val_loss: 0.0087 - val_accuracy: 1.0000\n",
      "\n",
      "Epoch 00130: saving model to model/keypoint_history_classifier/keypoint_history_classifier.hdf5\n",
      "Epoch 131/1000\n",
      "2/2 [==============================] - 0s 33ms/step - loss: 0.0933 - accuracy: 0.9769 - val_loss: 0.0080 - val_accuracy: 1.0000\n",
      "\n",
      "Epoch 00131: saving model to model/keypoint_history_classifier/keypoint_history_classifier.hdf5\n",
      "Epoch 132/1000\n",
      "2/2 [==============================] - 0s 32ms/step - loss: 0.0924 - accuracy: 0.9717 - val_loss: 0.0081 - val_accuracy: 1.0000\n",
      "\n",
      "Epoch 00132: saving model to model/keypoint_history_classifier/keypoint_history_classifier.hdf5\n",
      "Epoch 133/1000\n",
      "2/2 [==============================] - 0s 37ms/step - loss: 0.1083 - accuracy: 0.9521 - val_loss: 0.0082 - val_accuracy: 1.0000\n",
      "\n",
      "Epoch 00133: saving model to model/keypoint_history_classifier/keypoint_history_classifier.hdf5\n",
      "Epoch 134/1000\n",
      "2/2 [==============================] - 0s 38ms/step - loss: 0.1050 - accuracy: 0.9681 - val_loss: 0.0077 - val_accuracy: 1.0000\n",
      "\n",
      "Epoch 00134: saving model to model/keypoint_history_classifier/keypoint_history_classifier.hdf5\n",
      "Epoch 00134: early stopping\n"
     ]
    },
    {
     "data": {
      "text/plain": [
       "<tensorflow.python.keras.callbacks.History at 0x7f3277917e80>"
      ]
     },
     "execution_count": 12,
     "metadata": {},
     "output_type": "execute_result"
    }
   ],
   "source": [
    "model.fit(\n",
    "    X_train,\n",
    "    y_train,\n",
    "    epochs=1000,\n",
    "    batch_size=128,\n",
    "    validation_data=(X_test, y_test),\n",
    "    callbacks=[cp_callback, es_callback]\n",
    ")"
   ]
  },
  {
   "cell_type": "code",
   "execution_count": 13,
   "metadata": {},
   "outputs": [],
   "source": [
    "# saving \n",
    "model = tf.keras.models.load_model('model/keypoint_history_classifier/keypoint_history_classifier.hdf5')"
   ]
  },
  {
   "cell_type": "code",
   "execution_count": 15,
   "metadata": {},
   "outputs": [
    {
     "name": "stdout",
     "output_type": "stream",
     "text": [
      "[6.235155e-04 9.993765e-01]\n",
      "1\n"
     ]
    }
   ],
   "source": [
    "# predict the result\n",
    "predict_result = model.predict(np.array([X_test[0]]))\n",
    "print(np.squeeze(predict_result))\n",
    "print(np.argmax(np.squeeze(predict_result)))"
   ]
  },
  {
   "cell_type": "markdown",
   "metadata": {},
   "source": [
    "# Confusion Matrix"
   ]
  },
  {
   "cell_type": "code",
   "execution_count": 16,
   "metadata": {},
   "outputs": [
    {
     "data": {
      "image/png": "[encoded data removed]",
      "text/plain": [
       "<Figure size 504x432 with 2 Axes>"
      ]
     },
     "metadata": {
      "needs_background": "light"
     },
     "output_type": "display_data"
    },
    {
     "name": "stdout",
     "output_type": "stream",
     "text": [
      "Classification Report\n",
      "              precision    recall  f1-score   support\n",
      "\n",
      "         0.0       1.00      1.00      1.00        23\n",
      "         1.0       1.00      1.00      1.00        40\n",
      "\n",
      "    accuracy                           1.00        63\n",
      "   macro avg       1.00      1.00      1.00        63\n",
      "weighted avg       1.00      1.00      1.00        63\n",
      "\n"
     ]
    }
   ],
   "source": [
    "import pandas as pd\n",
    "import seaborn as sns\n",
    "import matplotlib.pyplot as plt\n",
    "from sklearn.metrics import confusion_matrix, classification_report\n",
    "\n",
    "def print_confusion_matrix(y_true, y_pred, report=True):\n",
    "    labels = sorted(list(set(y_true)))\n",
    "    cmx_data = confusion_matrix(y_true, y_pred, labels=labels)\n",
    "    \n",
    "    df_cmx = pd.DataFrame(cmx_data, index=labels, columns=labels)\n",
    " \n",
    "    fig, ax = plt.subplots(figsize=(7, 6))\n",
    "    sns.heatmap(df_cmx, annot=True, fmt='g' ,square=False)\n",
    "    ax.set_ylim(len(set(y_true)), 0)\n",
    "    plt.show()\n",
    "    \n",
    "    if report:\n",
    "        print('Classification Report')\n",
    "        print(classification_report(y_test, y_pred))\n",
    "\n",
    "Y_pred = model.predict(X_test)\n",
    "y_pred = np.argmax(Y_pred, axis=1)\n",
    "\n",
    "print_confusion_matrix(y_test, y_pred)"
   ]
  },
  {
   "cell_type": "markdown",
   "metadata": {},
   "source": [
    "# Convert the model into the tensorflow"
   ]
  },
  {
   "cell_type": "code",
   "execution_count": 44,
   "metadata": {},
   "outputs": [
    {
     "name": "stdout",
     "output_type": "stream",
     "text": [
      "WARNING:tensorflow:No training configuration found in the save file, so the model was *not* compiled. Compile it manually.\n"
     ]
    },
    {
     "name": "stderr",
     "output_type": "stream",
     "text": [
      "WARNING:tensorflow:No training configuration found in the save file, so the model was *not* compiled. Compile it manually.\n"
     ]
    }
   ],
   "source": [
    "# convert to tflite\n",
    "model.save(model_save_path, include_optimizer=False)\n",
    "model = tf.keras.models.load_model(model_save_path)"
   ]
  },
  {
   "cell_type": "code",
   "execution_count": 45,
   "metadata": {},
   "outputs": [],
   "source": [
    "tflite_save_path = 'model/keypoint_history_classifier/keypoint_history_classifier.tflite'"
   ]
  },
  {
   "cell_type": "code",
   "execution_count": 46,
   "metadata": {},
   "outputs": [
    {
     "name": "stdout",
     "output_type": "stream",
     "text": [
      "INFO:tensorflow:Assets written to: /tmp/tmp89np69xs/assets\n"
     ]
    },
    {
     "name": "stderr",
     "output_type": "stream",
     "text": [
      "INFO:tensorflow:Assets written to: /tmp/tmp89np69xs/assets\n",
      "2021-10-02 03:57:23.850269: I tensorflow/core/grappler/devices.cc:78] Number of eligible GPUs (core count >= 8, compute capability >= 0.0): 0 (Note: TensorFlow was not compiled with CUDA or ROCm support)\n",
      "2021-10-02 03:57:23.850383: I tensorflow/core/grappler/clusters/single_machine.cc:356] Starting new session\n",
      "2021-10-02 03:57:23.851404: I tensorflow/core/grappler/optimizers/meta_optimizer.cc:928] Optimization results for grappler item: graph_to_optimize\n",
      "  function_optimizer: function_optimizer did nothing. time = 0.002ms.\n",
      "  function_optimizer: function_optimizer did nothing. time = 0.001ms.\n",
      "\n",
      "2021-10-02 03:57:23.874152: W tensorflow/compiler/mlir/lite/python/tf_tfl_flatbuffer_helpers.cc:316] Ignored output_format.\n",
      "2021-10-02 03:57:23.874185: W tensorflow/compiler/mlir/lite/python/tf_tfl_flatbuffer_helpers.cc:319] Ignored drop_control_dependency.\n",
      "2021-10-02 03:57:23.882925: I tensorflow/lite/tools/optimize/quantize_weights.cc:222] Skipping quantization of tensor sequential/dense_1/MatMul because it has fewer than 1024 elements (240).\n",
      "2021-10-02 03:57:23.882950: I tensorflow/lite/tools/optimize/quantize_weights.cc:222] Skipping quantization of tensor sequential/dense_2/MatMul because it has fewer than 1024 elements (20).\n"
     ]
    },
    {
     "data": {
      "text/plain": [
       "13248"
      ]
     },
     "execution_count": 46,
     "metadata": {},
     "output_type": "execute_result"
    }
   ],
   "source": [
    "# Transform model (quantization)\n",
    "\n",
    "converter = tf.lite.TFLiteConverter.from_keras_model(model)  # converter = tf.lite.TFLiteConverter.from_saved_model(saved_model_path)\n",
    "converter.optimizations = [tf.lite.Optimize.DEFAULT]\n",
    "tflite_quantized_model = converter.convert()\n",
    "\n",
    "open(tflite_save_path, 'wb').write(tflite_quantized_model)"
   ]
  },
  {
   "cell_type": "markdown",
   "metadata": {},
   "source": [
    "# Interpetors"
   ]
  },
  {
   "cell_type": "code",
   "execution_count": 47,
   "metadata": {},
   "outputs": [],
   "source": [
    "interpreter = tf.lite.Interpreter(model_path=tflite_save_path)\n",
    "interpreter.allocate_tensors()\n",
    "\n"
   ]
  },
  {
   "cell_type": "code",
   "execution_count": 48,
   "metadata": {},
   "outputs": [
    {
     "name": "stdout",
     "output_type": "stream",
     "text": [
      "[{'name': 'input_1', 'index': 0, 'shape': array([  1, 420], dtype=int32), 'shape_signature': array([ -1, 420], dtype=int32), 'dtype': <class 'numpy.float32'>, 'quantization': (0.0, 0), 'quantization_parameters': {'scales': array([], dtype=float32), 'zero_points': array([], dtype=int32), 'quantized_dimension': 0}, 'sparsity_parameters': {}}]\n"
     ]
    }
   ],
   "source": [
    "# get the input details\n",
    "input_details = interpreter.get_input_details()\n",
    "output_details = interpreter.get_output_details()\n",
    "print(input_details)"
   ]
  },
  {
   "cell_type": "code",
   "execution_count": 49,
   "metadata": {},
   "outputs": [
    {
     "name": "stdout",
     "output_type": "stream",
     "text": [
      "model/keypoint_history_classifier/keypoint_history_classifier.tflite\n"
     ]
    }
   ],
   "source": [
    "print(tflite_save_path)"
   ]
  },
  {
   "cell_type": "code",
   "execution_count": 50,
   "metadata": {},
   "outputs": [
    {
     "ename": "ValueError",
     "evalue": "Cannot set tensor: Got value of type NOTYPE but expected type FLOAT32 for input 0, name: input_1 ",
     "output_type": "error",
     "traceback": [
      "\u001b[0;31m---------------------------------------------------------------------------\u001b[0m",
      "\u001b[0;31mValueError\u001b[0m                                Traceback (most recent call last)",
      "\u001b[0;32m/tmp/ipykernel_168003/3381142894.py\u001b[0m in \u001b[0;36m<module>\u001b[0;34m\u001b[0m\n\u001b[0;32m----> 1\u001b[0;31m \u001b[0minterpreter\u001b[0m\u001b[0;34m.\u001b[0m\u001b[0mset_tensor\u001b[0m\u001b[0;34m(\u001b[0m\u001b[0minput_details\u001b[0m\u001b[0;34m[\u001b[0m\u001b[0;36m0\u001b[0m\u001b[0;34m]\u001b[0m\u001b[0;34m[\u001b[0m\u001b[0;34m'index'\u001b[0m\u001b[0;34m]\u001b[0m\u001b[0;34m,\u001b[0m \u001b[0mnp\u001b[0m\u001b[0;34m.\u001b[0m\u001b[0marray\u001b[0m\u001b[0;34m(\u001b[0m\u001b[0;34m[\u001b[0m\u001b[0mX_test\u001b[0m\u001b[0;34m[\u001b[0m\u001b[0;36m0\u001b[0m\u001b[0;34m]\u001b[0m\u001b[0;34m]\u001b[0m\u001b[0;34m)\u001b[0m\u001b[0;34m)\u001b[0m\u001b[0;34m\u001b[0m\u001b[0;34m\u001b[0m\u001b[0m\n\u001b[0m",
      "\u001b[0;32m~/anaconda3/envs/hololen/lib/python3.9/site-packages/tensorflow/lite/python/interpreter.py\u001b[0m in \u001b[0;36mset_tensor\u001b[0;34m(self, tensor_index, value)\u001b[0m\n\u001b[1;32m    421\u001b[0m       \u001b[0mValueError\u001b[0m\u001b[0;34m:\u001b[0m \u001b[0mIf\u001b[0m \u001b[0mthe\u001b[0m \u001b[0minterpreter\u001b[0m \u001b[0mcould\u001b[0m \u001b[0;32mnot\u001b[0m \u001b[0mset\u001b[0m \u001b[0mthe\u001b[0m \u001b[0mtensor\u001b[0m\u001b[0;34m.\u001b[0m\u001b[0;34m\u001b[0m\u001b[0;34m\u001b[0m\u001b[0m\n\u001b[1;32m    422\u001b[0m     \"\"\"\n\u001b[0;32m--> 423\u001b[0;31m     \u001b[0mself\u001b[0m\u001b[0;34m.\u001b[0m\u001b[0m_interpreter\u001b[0m\u001b[0;34m.\u001b[0m\u001b[0mSetTensor\u001b[0m\u001b[0;34m(\u001b[0m\u001b[0mtensor_index\u001b[0m\u001b[0;34m,\u001b[0m \u001b[0mvalue\u001b[0m\u001b[0;34m)\u001b[0m\u001b[0;34m\u001b[0m\u001b[0;34m\u001b[0m\u001b[0m\n\u001b[0m\u001b[1;32m    424\u001b[0m \u001b[0;34m\u001b[0m\u001b[0m\n\u001b[1;32m    425\u001b[0m   \u001b[0;32mdef\u001b[0m \u001b[0mresize_tensor_input\u001b[0m\u001b[0;34m(\u001b[0m\u001b[0mself\u001b[0m\u001b[0;34m,\u001b[0m \u001b[0minput_index\u001b[0m\u001b[0;34m,\u001b[0m \u001b[0mtensor_size\u001b[0m\u001b[0;34m,\u001b[0m \u001b[0mstrict\u001b[0m\u001b[0;34m=\u001b[0m\u001b[0;32mFalse\u001b[0m\u001b[0;34m)\u001b[0m\u001b[0;34m:\u001b[0m\u001b[0;34m\u001b[0m\u001b[0;34m\u001b[0m\u001b[0m\n",
      "\u001b[0;31mValueError\u001b[0m: Cannot set tensor: Got value of type NOTYPE but expected type FLOAT32 for input 0, name: input_1 "
     ]
    }
   ],
   "source": [
    "interpreter.set_tensor(input_details[0]['index'], np.array([X_test[0]]))"
   ]
  },
  {
   "cell_type": "code",
   "execution_count": 23,
   "metadata": {},
   "outputs": [
    {
     "name": "stdout",
     "output_type": "stream",
     "text": [
      "CPU times: user 612 µs, sys: 94 µs, total: 706 µs\n",
      "Wall time: 509 µs\n"
     ]
    }
   ],
   "source": [
    "%%time\n",
    "# call the interpetor\n",
    "interpreter.invoke()\n",
    "tflite_results = interpreter.get_tensor(output_details[0]['index'])"
   ]
  },
  {
   "cell_type": "code",
   "execution_count": 24,
   "metadata": {},
   "outputs": [
    {
     "name": "stdout",
     "output_type": "stream",
     "text": [
      "[0. 1.]\n",
      "1\n"
     ]
    }
   ],
   "source": [
    "print(np.squeeze(tflite_results))\n",
    "print(np.argmax(np.squeeze(tflite_results)))"
   ]
  },
  {
   "cell_type": "code",
   "execution_count": 39,
   "metadata": {},
   "outputs": [
    {
     "name": "stdout",
     "output_type": "stream",
     "text": [
      "model/keypoint_history_classifier/keypoint_history_classifier.hdf5\n",
      "model/keypoint_history_classifier/keypoint_history_classifier.tflite\n",
      "INFO:tensorflow:Assets written to: /tmp/tmpxz3nywvo/assets\n"
     ]
    },
    {
     "name": "stderr",
     "output_type": "stream",
     "text": [
      "INFO:tensorflow:Assets written to: /tmp/tmpxz3nywvo/assets\n",
      "2021-10-02 03:55:16.972539: I tensorflow/core/grappler/devices.cc:78] Number of eligible GPUs (core count >= 8, compute capability >= 0.0): 0 (Note: TensorFlow was not compiled with CUDA or ROCm support)\n",
      "2021-10-02 03:55:16.972644: I tensorflow/core/grappler/clusters/single_machine.cc:356] Starting new session\n",
      "2021-10-02 03:55:16.973648: I tensorflow/core/grappler/optimizers/meta_optimizer.cc:928] Optimization results for grappler item: graph_to_optimize\n",
      "  function_optimizer: function_optimizer did nothing. time = 0.001ms.\n",
      "  function_optimizer: function_optimizer did nothing. time = 0ms.\n",
      "\n",
      "2021-10-02 03:55:16.998715: W tensorflow/compiler/mlir/lite/python/tf_tfl_flatbuffer_helpers.cc:316] Ignored output_format.\n",
      "2021-10-02 03:55:16.998750: W tensorflow/compiler/mlir/lite/python/tf_tfl_flatbuffer_helpers.cc:319] Ignored drop_control_dependency.\n",
      "2021-10-02 03:55:17.007685: I tensorflow/lite/tools/optimize/quantize_weights.cc:222] Skipping quantization of tensor sequential/dense_1/MatMul because it has fewer than 1024 elements (240).\n",
      "2021-10-02 03:55:17.007714: I tensorflow/lite/tools/optimize/quantize_weights.cc:222] Skipping quantization of tensor sequential/dense_2/MatMul because it has fewer than 1024 elements (20).\n"
     ]
    }
   ],
   "source": [
    "print(model_save_path)\n",
    "print(tflite_save_path)\n",
    "\n",
    "\n",
    "\n",
    "convertor = tf.lite.TFLiteConverter.from_keras_model(model_save_path)\n",
    "\n",
    "tflite_model = converter.convert()\n",
    "\n",
    "with open(tflite_save_path,'wb') as f:\n",
    "    f.write(tflite_model)"
   ]
  }
 ],
 "metadata": {
  "kernelspec": {
   "display_name": "Python 3 (ipykernel)",
   "language": "python",
   "name": "python3"
  },
  "language_info": {
   "codemirror_mode": {
    "name": "ipython",
    "version": 3
   },
   "file_extension": ".py",
   "mimetype": "text/x-python",
   "name": "python",
   "nbconvert_exporter": "python",
   "pygments_lexer": "ipython3",
   "version": "3.9.7"
  }
 },
 "nbformat": 4,
 "nbformat_minor": 4
}
